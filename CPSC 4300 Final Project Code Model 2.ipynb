{
 "cells": [
  {
   "cell_type": "code",
   "execution_count": 107,
   "id": "838e4296",
   "metadata": {},
   "outputs": [],
   "source": [
    "import pandas as pd\n",
    "import numpy as np\n",
    "import matplotlib.pyplot as plt\n",
    "from sklearn.linear_model import LinearRegression\n",
    "from sklearn.linear_model import LogisticRegression\n",
    "from sklearn.model_selection import train_test_split\n",
    "from sklearn.metrics import mean_squared_error, r2_score\n",
    "from sklearn.preprocessing import PolynomialFeatures\n",
    "from sklearn.preprocessing import StandardScaler\n",
    "import seaborn as sns\n",
    "from sklearn.metrics import r2_score\n",
    "from sklearn.metrics import accuracy_score\n",
    "from sklearn.metrics import roc_curve\n",
    "from sklearn.metrics import auc"
   ]
  },
  {
   "cell_type": "code",
   "execution_count": 108,
   "id": "ede86ed3",
   "metadata": {},
   "outputs": [],
   "source": [
    "# Load the dataset, skip the first row as it contains headers within the data\n",
    "data = pd.read_csv('data/acs.csv')"
   ]
  },
  {
   "cell_type": "code",
   "execution_count": 109,
   "id": "b287cf76",
   "metadata": {},
   "outputs": [],
   "source": [
    "data.drop('birth_qrtr', axis=1, inplace=True)\n",
    "data = data[data['income'] != 0]"
   ]
  },
  {
   "cell_type": "code",
   "execution_count": 110,
   "id": "f69a2f15",
   "metadata": {},
   "outputs": [],
   "source": [
    "# Convert age to numeric\n",
    "data['age'] = pd.to_numeric(data['age'], errors='coerce')"
   ]
  },
  {
   "cell_type": "code",
   "execution_count": 111,
   "id": "8c7ba27c",
   "metadata": {},
   "outputs": [],
   "source": [
    "# Handle categorical variables: race, gender, citizen, lang, married, edu, disability\n",
    "categorical_cols = ['race', 'gender', 'citizen', 'lang', 'married', 'edu', 'disability', 'employment']"
   ]
  },
  {
   "cell_type": "code",
   "execution_count": 112,
   "id": "19105f76",
   "metadata": {},
   "outputs": [],
   "source": [
    "# Apply one-hot encoding to categorical variables\n",
    "for col in categorical_cols: \n",
    "    encoded_cols = pd.get_dummies(data[col], prefix=col)\n",
    "    data = data.drop(columns=[col])\n",
    "    data = pd.concat([data, encoded_cols], axis=1)"
   ]
  },
  {
   "cell_type": "code",
   "execution_count": 113,
   "id": "61bd803b",
   "metadata": {},
   "outputs": [
    {
     "data": {
      "text/plain": [
       "count       894.000000\n",
       "mean      42844.261745\n",
       "std       55797.277192\n",
       "min          50.000000\n",
       "25%       10575.000000\n",
       "50%       30000.000000\n",
       "75%       52000.000000\n",
       "max      450000.000000\n",
       "Name: income, dtype: float64"
      ]
     },
     "execution_count": 113,
     "metadata": {},
     "output_type": "execute_result"
    }
   ],
   "source": [
    "data['income'].describe()"
   ]
  },
  {
   "cell_type": "code",
   "execution_count": 114,
   "id": "c0493166",
   "metadata": {},
   "outputs": [],
   "source": [
    "#Drop na income values and we choose a threshold of maximum 100000 income to remove outliers\n",
    "data.dropna(subset=['income'], inplace=True)\n",
    "data = data[data['income'] <= 100000]"
   ]
  },
  {
   "cell_type": "code",
   "execution_count": 115,
   "id": "64a2b789",
   "metadata": {},
   "outputs": [],
   "source": [
    "#For the second model, I want to try to improve the model's performance by cutting the income data\n",
    "#into 5 bins. Then, I will fit a multiclass logistic model to the data.\n",
    "\n",
    "#This may improve the accuracy of the model's predictions as opposed to predicting an exact\n",
    "#salary dollar amount.\n",
    "\n",
    "bins = pd.cut(data['income'], bins=5, labels=False, retbins=True)[1]\n",
    "\n",
    "data['income_bin'] = pd.cut(data['income'], bins=bins, labels=False)"
   ]
  },
  {
   "cell_type": "code",
   "execution_count": 116,
   "id": "dde74b2b",
   "metadata": {},
   "outputs": [
    {
     "name": "stdout",
     "output_type": "stream",
     "text": [
      "[-4.995e+01  2.004e+04  4.003e+04  6.002e+04  8.001e+04  1.000e+05]\n",
      "<bound method NDFrame.head of        income  hrs_work  age  time_to_work  race_asian  race_black  \\\n",
      "0     60000.0      40.0   68           NaN       False       False   \n",
      "5      1700.0      40.0   35          15.0       False       False   \n",
      "9     45000.0      84.0   27          40.0       False       False   \n",
      "11     8600.0      23.0   69           5.0       False       False   \n",
      "15    33500.0      55.0   52          20.0       False       False   \n",
      "...       ...       ...  ...           ...         ...         ...   \n",
      "1986  12000.0      38.0   62          20.0       False       False   \n",
      "1988  33300.0      40.0   54          10.0       False       False   \n",
      "1992  85000.0      40.0   52           8.0       False       False   \n",
      "1994  65000.0      48.0   53          45.0       False       False   \n",
      "1997  70000.0      40.0   63          30.0        True       False   \n",
      "\n",
      "      race_other  race_white  gender_female  gender_male  ...  married_yes  \\\n",
      "0          False        True           True        False  ...        False   \n",
      "5           True       False           True        False  ...         True   \n",
      "9          False        True          False         True  ...         True   \n",
      "11         False        True           True        False  ...        False   \n",
      "15         False        True          False         True  ...         True   \n",
      "...          ...         ...            ...          ...  ...          ...   \n",
      "1986       False        True           True        False  ...        False   \n",
      "1988       False        True           True        False  ...         True   \n",
      "1992       False        True          False         True  ...         True   \n",
      "1994       False        True          False         True  ...         True   \n",
      "1997       False       False          False         True  ...        False   \n",
      "\n",
      "      edu_college  edu_grad  edu_hs or lower  disability_no  disability_yes  \\\n",
      "0            True     False            False           True           False   \n",
      "5           False     False             True          False            True   \n",
      "9           False     False             True           True           False   \n",
      "11          False     False             True           True           False   \n",
      "15          False     False             True           True           False   \n",
      "...           ...       ...              ...            ...             ...   \n",
      "1986        False     False             True           True           False   \n",
      "1988        False     False             True          False            True   \n",
      "1992         True     False            False           True           False   \n",
      "1994        False     False             True          False            True   \n",
      "1997         True     False            False           True           False   \n",
      "\n",
      "      employment_employed  employment_not in labor force  \\\n",
      "0                   False                           True   \n",
      "5                    True                          False   \n",
      "9                    True                          False   \n",
      "11                   True                          False   \n",
      "15                   True                          False   \n",
      "...                   ...                            ...   \n",
      "1986                 True                          False   \n",
      "1988                 True                          False   \n",
      "1992                 True                          False   \n",
      "1994                 True                          False   \n",
      "1997                 True                          False   \n",
      "\n",
      "      employment_unemployed  income_bin  \n",
      "0                     False           2  \n",
      "5                     False           0  \n",
      "9                     False           2  \n",
      "11                    False           0  \n",
      "15                    False           1  \n",
      "...                     ...         ...  \n",
      "1986                  False           0  \n",
      "1988                  False           1  \n",
      "1992                  False           4  \n",
      "1994                  False           3  \n",
      "1997                  False           3  \n",
      "\n",
      "[829 rows x 25 columns]>\n"
     ]
    }
   ],
   "source": [
    "#Now, we can see that the bins created span around\n",
    "#1: 0-20000\n",
    "#2: 20000-40000\n",
    "#3: 40000-60000\n",
    "#4: 60000-80000\n",
    "#5: 80000-100000\n",
    "\n",
    "print(bins)\n",
    "print(data.head)"
   ]
  },
  {
   "cell_type": "code",
   "execution_count": 117,
   "id": "dbef473f",
   "metadata": {},
   "outputs": [],
   "source": [
    "#We can now drop columns of no use (income)\n",
    "data.drop(['income'], axis=1, inplace=True)"
   ]
  },
  {
   "cell_type": "code",
   "execution_count": 118,
   "id": "1747da24",
   "metadata": {},
   "outputs": [],
   "source": [
    "#Now I can split the data into the dev,test, and train set\n",
    "\n",
    "df_train, df_test = train_test_split(data, test_size=0.2, random_state=42)\n",
    "df_train, df_dev = train_test_split(df_train, test_size=0.25, random_state=99)"
   ]
  },
  {
   "cell_type": "code",
   "execution_count": 119,
   "id": "86d1db0b",
   "metadata": {},
   "outputs": [],
   "source": [
    "# Separate target values\n",
    "x_train = df_train.drop(['income_bin'], axis=1)\n",
    "y_train = pd.DataFrame(data=df_train['income_bin'], columns=[\"income_bin\"])\n",
    "\n",
    "x_dev = df_dev.drop(['income_bin'], axis=1)\n",
    "y_dev = pd.DataFrame(data=df_dev['income_bin'], columns=[\"income_bin\"])\n",
    "\n",
    "x_test = df_test.drop(['income_bin'], axis=1)\n",
    "y_test = pd.DataFrame(data=df_test['income_bin'], columns=[\"income_bin\"])"
   ]
  },
  {
   "cell_type": "code",
   "execution_count": 120,
   "id": "debf5213",
   "metadata": {},
   "outputs": [
    {
     "name": "stdout",
     "output_type": "stream",
     "text": [
      "\n",
      "Remaining variables and number of null values:\n",
      "hrs_work : 0\n",
      "age : 0\n",
      "time_to_work : 80\n",
      "race_asian : 0\n",
      "race_black : 0\n",
      "race_other : 0\n",
      "race_white : 0\n",
      "gender_female : 0\n",
      "gender_male : 0\n",
      "citizen_no : 0\n",
      "citizen_yes : 0\n",
      "lang_english : 0\n",
      "lang_other : 0\n",
      "married_no : 0\n",
      "married_yes : 0\n",
      "edu_college : 0\n",
      "edu_grad : 0\n",
      "edu_hs or lower : 0\n",
      "disability_no : 0\n",
      "disability_yes : 0\n",
      "employment_employed : 0\n",
      "employment_not in labor force : 0\n",
      "employment_unemployed : 0\n"
     ]
    }
   ],
   "source": [
    "print(\"\\nRemaining variables and number of null values:\")\n",
    "for col in x_train.columns:\n",
    "    null_values = np.sum(x_train[col].isnull())\n",
    "    print(col, \":\", null_values)"
   ]
  },
  {
   "cell_type": "code",
   "execution_count": 121,
   "id": "1c1f6475",
   "metadata": {},
   "outputs": [
    {
     "name": "stdout",
     "output_type": "stream",
     "text": [
      "Remaining null values in training set:\n",
      "hrs_work                         0\n",
      "age                              0\n",
      "time_to_work                     0\n",
      "race_asian                       0\n",
      "race_black                       0\n",
      "race_other                       0\n",
      "race_white                       0\n",
      "gender_female                    0\n",
      "gender_male                      0\n",
      "citizen_no                       0\n",
      "citizen_yes                      0\n",
      "lang_english                     0\n",
      "lang_other                       0\n",
      "married_no                       0\n",
      "married_yes                      0\n",
      "edu_college                      0\n",
      "edu_grad                         0\n",
      "edu_hs or lower                  0\n",
      "disability_no                    0\n",
      "disability_yes                   0\n",
      "employment_employed              0\n",
      "employment_not in labor force    0\n",
      "employment_unemployed            0\n",
      "dtype: int64\n",
      "Remaining null values in development set:\n",
      "hrs_work                         0\n",
      "age                              0\n",
      "time_to_work                     0\n",
      "race_asian                       0\n",
      "race_black                       0\n",
      "race_other                       0\n",
      "race_white                       0\n",
      "gender_female                    0\n",
      "gender_male                      0\n",
      "citizen_no                       0\n",
      "citizen_yes                      0\n",
      "lang_english                     0\n",
      "lang_other                       0\n",
      "married_no                       0\n",
      "married_yes                      0\n",
      "edu_college                      0\n",
      "edu_grad                         0\n",
      "edu_hs or lower                  0\n",
      "disability_no                    0\n",
      "disability_yes                   0\n",
      "employment_employed              0\n",
      "employment_not in labor force    0\n",
      "employment_unemployed            0\n",
      "dtype: int64\n",
      "Remaining null values in test set:\n",
      "hrs_work                         0\n",
      "age                              0\n",
      "time_to_work                     0\n",
      "race_asian                       0\n",
      "race_black                       0\n",
      "race_other                       0\n",
      "race_white                       0\n",
      "gender_female                    0\n",
      "gender_male                      0\n",
      "citizen_no                       0\n",
      "citizen_yes                      0\n",
      "lang_english                     0\n",
      "lang_other                       0\n",
      "married_no                       0\n",
      "married_yes                      0\n",
      "edu_college                      0\n",
      "edu_grad                         0\n",
      "edu_hs or lower                  0\n",
      "disability_no                    0\n",
      "disability_yes                   0\n",
      "employment_employed              0\n",
      "employment_not in labor force    0\n",
      "employment_unemployed            0\n",
      "dtype: int64\n"
     ]
    }
   ],
   "source": [
    "#We can see that time_to_work still has some null values\n",
    "#We do not want to drop this variable\n",
    "#Instead, we can drop the instances where it is null.\n",
    "\n",
    "x_train = x_train.dropna(subset=['time_to_work'])\n",
    "y_train = y_train.loc[x_train.index]\n",
    "\n",
    "x_dev = x_dev.dropna(subset=['time_to_work'])\n",
    "y_dev = y_dev.loc[x_dev.index]\n",
    "\n",
    "x_test = x_test.dropna(subset=['time_to_work'])\n",
    "y_test = y_test.loc[x_test.index]\n",
    "\n",
    "# Check remaining null values\n",
    "print(\"Remaining null values in training set:\")\n",
    "print(x_train.isnull().sum())\n",
    "\n",
    "print(\"Remaining null values in development set:\")\n",
    "print(x_dev.isnull().sum())\n",
    "\n",
    "print(\"Remaining null values in test set:\")\n",
    "print(x_test.isnull().sum())"
   ]
  },
  {
   "cell_type": "code",
   "execution_count": 122,
   "id": "c1c5d7c7",
   "metadata": {},
   "outputs": [
    {
     "name": "stdout",
     "output_type": "stream",
     "text": [
      "Shape of training set after dropping high-income instances: (417, 23)\n",
      "Shape of development set after dropping high-income instances: (132, 23)\n",
      "Shape of test set after dropping high-income instances: (137, 23)\n"
     ]
    }
   ],
   "source": [
    "print(\"Shape of training set after dropping high-income instances:\", x_train.shape)\n",
    "print(\"Shape of development set after dropping high-income instances:\", x_dev.shape)\n",
    "print(\"Shape of test set after dropping high-income instances:\", x_test.shape)"
   ]
  },
  {
   "cell_type": "code",
   "execution_count": 123,
   "id": "db5910f3",
   "metadata": {},
   "outputs": [],
   "source": [
    "#Now, we can instantiate the model\n",
    "\n",
    "lr = LogisticRegression(solver=\"lbfgs\", max_iter=10000)\n",
    "lr.fit(x_train, y_train['income_bin'])\n",
    "\n",
    "prediction = lr.predict(x_dev)\n",
    "\n",
    "#Now that we have predicted using our model, let's compute the accuracy score\n",
    "#For a logistic model, the test error is just the inverse of the accuracy score\n",
    "\n",
    "acc_score = accuracy_score(y_dev['income_bin'].to_numpy(), prediction)\n",
    "test_err = 1 - acc_score"
   ]
  },
  {
   "cell_type": "code",
   "execution_count": 124,
   "id": "a9557849",
   "metadata": {},
   "outputs": [
    {
     "name": "stdout",
     "output_type": "stream",
     "text": [
      "Accuracy score: 0.530\n",
      "Test error: 0.470\n",
      "Coefficient Count: 23\n",
      "Feature Count: 23\n"
     ]
    }
   ],
   "source": [
    "print(\"Accuracy score: {:.3f}\".format(acc_score))\n",
    "print(\"Test error: {:.3f}\".format(test_err))\n",
    "print(\"Coefficient Count: {}\".format(len(lr.coef_[0])))\n",
    "print(\"Feature Count: {}\".format(x_dev.shape[1]))"
   ]
  },
  {
   "cell_type": "code",
   "execution_count": 125,
   "id": "d14ea385",
   "metadata": {},
   "outputs": [
    {
     "name": "stdout",
     "output_type": "stream",
     "text": [
      "Feature: hrs_work\n",
      "Coef: -0.11118\n",
      "\n",
      "Feature: age\n",
      "Coef: -0.03779\n",
      "\n",
      "Feature: time_to_work\n",
      "Coef: -0.01288\n",
      "\n",
      "Feature: race_asian\n",
      "Coef: -0.03082\n",
      "\n",
      "Feature: race_black\n",
      "Coef: -0.14885\n",
      "\n",
      "Feature: race_other\n",
      "Coef: 0.17310\n",
      "\n",
      "Feature: race_white\n",
      "Coef: -0.02683\n",
      "\n",
      "Feature: gender_female\n",
      "Coef: 0.40598\n",
      "\n",
      "Feature: gender_male\n",
      "Coef: -0.43939\n",
      "\n",
      "Feature: citizen_no\n",
      "Coef: 0.06669\n",
      "\n",
      "Feature: citizen_yes\n",
      "Coef: -0.10010\n",
      "\n",
      "Feature: lang_english\n",
      "Coef: -0.27417\n",
      "\n",
      "Feature: lang_other\n",
      "Coef: 0.24076\n",
      "\n",
      "Feature: married_no\n",
      "Coef: 0.46950\n",
      "\n",
      "Feature: married_yes\n",
      "Coef: -0.50291\n",
      "\n",
      "Feature: edu_college\n",
      "Coef: -0.56010\n",
      "\n",
      "Feature: edu_grad\n",
      "Coef: -0.51663\n",
      "\n",
      "Feature: edu_hs or lower\n",
      "Coef: 1.04332\n",
      "\n",
      "Feature: disability_no\n",
      "Coef: -0.69446\n",
      "\n",
      "Feature: disability_yes\n",
      "Coef: 0.66105\n",
      "\n",
      "Feature: employment_employed\n",
      "Coef: -0.03341\n",
      "\n",
      "Feature: employment_not in labor force\n",
      "Coef: 0.00000\n",
      "\n",
      "Feature: employment_unemployed\n",
      "Coef: 0.00000\n",
      "\n"
     ]
    }
   ],
   "source": [
    "for i in range(len(x_dev.columns)):\n",
    "    print(\"Feature: {}\".format(x_dev.columns[i]))\n",
    "    print(\"Coef: {:.5f}\\n\".format(lr.coef_[0][i]))"
   ]
  },
  {
   "cell_type": "code",
   "execution_count": 126,
   "id": "beda21a1",
   "metadata": {},
   "outputs": [],
   "source": [
    "#With an accuracy score of 0.53 and a test error of 0.47, we see some valid improvement from\n",
    "#the original \n",
    "\n",
    "#Analyzing the coefficients, we can see that the model is more confident at predicting income\n",
    "#groups correctly for people who have low hours worked, have a disability, are a woman, and have\n",
    "#education as high school or lower.\n",
    "\n",
    "#Having low hours worked, a disability, and a lower education make sense, because the model can\n",
    "#more confidently estimate that this person may have a lower salary. This is intuitive.\n",
    "#When it comes to being a female, I wonder why the model is more confident at predicting values."
   ]
  },
  {
   "cell_type": "code",
   "execution_count": null,
   "id": "f4329c0c",
   "metadata": {},
   "outputs": [],
   "source": []
  }
 ],
 "metadata": {
  "kernelspec": {
   "display_name": "Python 3 (ipykernel)",
   "language": "python",
   "name": "python3"
  },
  "language_info": {
   "codemirror_mode": {
    "name": "ipython",
    "version": 3
   },
   "file_extension": ".py",
   "mimetype": "text/x-python",
   "name": "python",
   "nbconvert_exporter": "python",
   "pygments_lexer": "ipython3",
   "version": "3.11.5"
  }
 },
 "nbformat": 4,
 "nbformat_minor": 5
}

# Scenario 1: Making predictions for females only
x_test_females = x_test[x_test['gender_female'] == 1]
y_test_females = y_test.loc[x_test_females.index]

prediction_females = lr.predict(x_test_females)
accuracy_females = accuracy_score(y_test_females['income_bin'], prediction_females)
print("Accuracy for females only: {:.3f}".format(accuracy_females))

# Scenario 2: Predictions for females with high school education or lower
x_test_females_hs_or_lower = x_test_females[x_test_females['edu_hs or lower'] == 1]
y_test_females_hs_or_lower = y_test.loc[x_test_females_hs_or_lower.index]

prediction_females_hs_or_lower = lr.predict(x_test_females_hs_or_lower)
accuracy_females_hs_or_lower = accuracy_score(
    y_test_females_hs_or_lower['income_bin'], prediction_females_hs_or_lower
)
print("Accuracy for females with high school or lower education: {:.3f}".format(accuracy_females_hs_or_lower))

# Scenario 3: Modify hrs_work by 10% and make predictions
x_test_females_hs_or_lower_modified = x_test_females_hs_or_lower.copy()
x_test_females_hs_or_lower_modified['hrs_work'] = (
    x_test_females_hs_or_lower_modified['hrs_work'] * 1.10
)

prediction_modified = lr.predict(x_test_females_hs_or_lower_modified)
accuracy_modified = accuracy_score(y_test_females_hs_or_lower['income_bin'], prediction_modified)
print("Accuracy with modified hours worked (10% increase): {:.3f}".format(accuracy_modified))
